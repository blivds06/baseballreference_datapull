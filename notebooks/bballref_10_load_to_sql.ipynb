{
 "cells": [
  {
   "cell_type": "code",
   "execution_count": null,
   "id": "65812fe4",
   "metadata": {},
   "outputs": [],
   "source": [
    "# %load_ext autoreload\n",
    "# %autoreload 2\n",
    "import numpy as np\n",
    "import pandas as pd\n",
    "from bballref import general_utility as gu\n",
    "from bballref import load_data_to_sql as ldt_sql\n",
    "from bballref.config import config"
   ]
  },
  {
   "cell_type": "code",
   "execution_count": null,
   "id": "1c55cb76",
   "metadata": {},
   "outputs": [],
   "source": [
    "sql = ldt_sql.sql_engine_object()\n",
    "cursor, engine = sql.engine()"
   ]
  },
  {
   "cell_type": "code",
   "execution_count": null,
   "id": "7dc9ff9b",
   "metadata": {},
   "outputs": [],
   "source": [
    "standardbattingdata = gu.read_parquet(\n",
    "    config.data_path + \"\\\\standardbattingdata.parquet.gzip\"\n",
    ")\n",
    "battingplatoonsplitsdata = gu.read_parquet(\n",
    "    config.data_path + \"\\\\battingplatoonsplitsdata.parquet.gzip\"\n",
    ")\n",
    "standardpitchingdata = gu.read_parquet(\n",
    "    config.data_path + \"\\\\standardpitchingdata.parquet.gzip\"\n",
    ")\n",
    "pitchingplatoonsplits = gu.read_parquet(\n",
    "    config.data_path + \"\\\\pitchingplatoonsplits.parquet.gzip\"\n",
    ")"
   ]
  },
  {
   "cell_type": "code",
   "execution_count": null,
   "id": "c16af3f7",
   "metadata": {},
   "outputs": [],
   "source": [
    "standardbattingdata.to_sql(\n",
    "    \"STANDARD_BATTING_DATA\", engine, index=False, if_exists=\"replace\", schema=\"dbo\"\n",
    ")"
   ]
  },
  {
   "cell_type": "code",
   "execution_count": null,
   "id": "2c3d3683",
   "metadata": {},
   "outputs": [],
   "source": [
    "battingplatoonsplitsdata.to_sql(\n",
    "    \"PLATOON_SPLITS_BATTING_DATA\",\n",
    "    engine,\n",
    "    index=False,\n",
    "    if_exists=\"replace\",\n",
    "    schema=\"dbo\",\n",
    ")"
   ]
  },
  {
   "cell_type": "code",
   "execution_count": null,
   "id": "c2dbf48c",
   "metadata": {},
   "outputs": [],
   "source": [
    "standardpitchingdata.to_sql(\n",
    "    \"STANDARD_PITCHING_DATA\", engine, index=False, if_exists=\"replace\", schema=\"dbo\"\n",
    ")"
   ]
  },
  {
   "cell_type": "code",
   "execution_count": null,
   "id": "e1cdb7f2",
   "metadata": {},
   "outputs": [],
   "source": [
    "pitchingplatoonsplits.to_sql(\n",
    "    \"PLATOON_SPLITS_PITCHING_DATA\",\n",
    "    engine,\n",
    "    index=False,\n",
    "    if_exists=\"replace\",\n",
    "    schema=\"dbo\",\n",
    ")"
   ]
  },
  {
   "cell_type": "code",
   "execution_count": null,
   "id": "0b0d07ce",
   "metadata": {},
   "outputs": [],
   "source": [
    "sql.close_cursor()"
   ]
  },
  {
   "cell_type": "code",
   "execution_count": null,
   "id": "3f153ad0",
   "metadata": {},
   "outputs": [],
   "source": []
  }
 ],
 "metadata": {
  "kernelspec": {
   "display_name": "Python 3 (ipykernel)",
   "language": "python",
   "name": "python3"
  },
  "language_info": {
   "codemirror_mode": {
    "name": "ipython",
    "version": 3
   },
   "file_extension": ".py",
   "mimetype": "text/x-python",
   "name": "python",
   "nbconvert_exporter": "python",
   "pygments_lexer": "ipython3",
   "version": "3.9.12"
  }
 },
 "nbformat": 4,
 "nbformat_minor": 5
}
