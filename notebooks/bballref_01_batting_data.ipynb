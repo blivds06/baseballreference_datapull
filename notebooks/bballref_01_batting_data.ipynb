{
 "cells": [
  {
   "cell_type": "code",
   "execution_count": null,
   "id": "19eb98a1",
   "metadata": {},
   "outputs": [],
   "source": [
    "# %load_ext autoreload\n",
    "# %autoreload 2\n",
    "import numpy as np\n",
    "import pandas as pd\n",
    "from bballref import data_pulls as dp\n",
    "from bballref import general_utility as gu\n",
    "from bballref.config import config"
   ]
  },
  {
   "cell_type": "code",
   "execution_count": null,
   "id": "80f50e0c",
   "metadata": {},
   "outputs": [],
   "source": [
    "standardbattingdata = dp.standardbattingdata(config.year)"
   ]
  },
  {
   "cell_type": "code",
   "execution_count": null,
   "id": "fd9606a0",
   "metadata": {},
   "outputs": [],
   "source": [
    "# Assigning columns to int/float if they apply\n",
    "gu.assignmetadata(standardbattingdata, \"STANDARD_BATTING_DATA\")\n",
    "gu.write_parquet(\n",
    "    standardbattingdata, config.data_path + \"\\\\standardbattingdata.parquet.gzip\"\n",
    ")"
   ]
  },
  {
   "cell_type": "code",
   "execution_count": null,
   "id": "6f6cbd56",
   "metadata": {},
   "outputs": [],
   "source": [
    "playerarray = np.unique(standardbattingdata[\"Player_CDE\"].to_numpy())\n",
    "firstitem = playerarray[0]"
   ]
  },
  {
   "cell_type": "code",
   "execution_count": null,
   "id": "79c1e9ae",
   "metadata": {},
   "outputs": [],
   "source": [
    "counter = 0\n",
    "for player_cde in playerarray:\n",
    "    data = dp.battingplatoonsplits(player_cde, config.year)\n",
    "    if player_cde == firstitem:\n",
    "        battingplatoonsplitsdata = data\n",
    "    else:\n",
    "        battingplatoonsplitsdata = pd.concat([battingplatoonsplitsdata, data])\n",
    "    if counter % 10 == 0:\n",
    "        print(\"Ticker Update: \" + player_cde)\n",
    "    counter += 1"
   ]
  },
  {
   "cell_type": "code",
   "execution_count": null,
   "id": "79ed259d",
   "metadata": {},
   "outputs": [],
   "source": [
    "gu.write_parquet(\n",
    "    battingplatoonsplits, config.data_path + \"\\\\battingplatoonsplitsdata.parquet.gzip\"\n",
    ")"
   ]
  },
  {
   "cell_type": "code",
   "execution_count": null,
   "id": "3d839082",
   "metadata": {},
   "outputs": [],
   "source": []
  }
 ],
 "metadata": {
  "kernelspec": {
   "display_name": "Python 3 (ipykernel)",
   "language": "python",
   "name": "python3"
  },
  "language_info": {
   "codemirror_mode": {
    "name": "ipython",
    "version": 3
   },
   "file_extension": ".py",
   "mimetype": "text/x-python",
   "name": "python",
   "nbconvert_exporter": "python",
   "pygments_lexer": "ipython3",
   "version": "3.9.12"
  }
 },
 "nbformat": 4,
 "nbformat_minor": 5
}
