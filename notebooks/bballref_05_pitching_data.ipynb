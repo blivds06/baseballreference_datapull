{
 "cells": [
  {
   "cell_type": "code",
   "execution_count": null,
   "id": "1f3459c7",
   "metadata": {},
   "outputs": [],
   "source": [
    "# %load_ext autoreload\n",
    "# %autoreload 2\n",
    "import logging\n",
    "\n",
    "import numpy as np\n",
    "import pandas as pd\n",
    "from bballref import data_pulls as dp\n",
    "from bballref import general_utility as gu\n",
    "from bballref.config import config\n",
    "\n",
    "logger = logging.getLogger(__name__)"
   ]
  },
  {
   "cell_type": "code",
   "execution_count": null,
   "id": "1dafada1",
   "metadata": {},
   "outputs": [],
   "source": [
    "standardpitchingdata = dp.standardpitchingdata(config.year)"
   ]
  },
  {
   "cell_type": "code",
   "execution_count": null,
   "id": "375b1b75",
   "metadata": {},
   "outputs": [],
   "source": [
    "logger.info(\"Fixed infinity ERA's to a string of 10000\")\n",
    "standardpitchingdata.loc[standardpitchingdata.ERA == \"inf\", \"ERA\"] = \"10000\"\n",
    "logger.info(\"Assigning columns to int/float if they apply\")\n",
    "gu.assignmetadata(standardpitchingdata, \"STANDARD_PITCHING_DATA\")\n",
    "gu.write_parquet(\n",
    "    standardpitchingdata, config.data_path + \"\\\\standardpitchingdata.parquet.gzip\"\n",
    ")"
   ]
  },
  {
   "cell_type": "code",
   "execution_count": null,
   "id": "cc8c687f",
   "metadata": {},
   "outputs": [],
   "source": [
    "playerarray = np.unique(standardpitchingdata[\"Player_CDE\"].to_numpy())\n",
    "firstitem = playerarray[0]"
   ]
  },
  {
   "cell_type": "code",
   "execution_count": null,
   "id": "b7fce6aa",
   "metadata": {},
   "outputs": [],
   "source": [
    "counter = 0\n",
    "for player_cde in playerarray:\n",
    "    data = dp.pitchingplatoonsplits(player_cde, config.year)\n",
    "    if player_cde == firstitem:\n",
    "        pitchingplatoonsplits = data\n",
    "    else:\n",
    "        pitchingplatoonsplits = pd.concat([pitchingplatoonsplits, data])\n",
    "    if counter % 10 == 0:\n",
    "        logger.info(\"Ticker Update: \" + player_cde)\n",
    "    counter += 1"
   ]
  },
  {
   "cell_type": "code",
   "execution_count": null,
   "id": "56511f84",
   "metadata": {},
   "outputs": [],
   "source": [
    "gu.write_parquet(\n",
    "    pitchingplatoonsplits, config.data_path + \"\\\\pitchingplatoonsplits.parquet.gzip\"\n",
    ")"
   ]
  },
  {
   "cell_type": "code",
   "execution_count": null,
   "id": "e9102bf3",
   "metadata": {},
   "outputs": [],
   "source": []
  }
 ],
 "metadata": {
  "kernelspec": {
   "display_name": "Python 3 (ipykernel)",
   "language": "python",
   "name": "python3"
  },
  "language_info": {
   "codemirror_mode": {
    "name": "ipython",
    "version": 3
   },
   "file_extension": ".py",
   "mimetype": "text/x-python",
   "name": "python",
   "nbconvert_exporter": "python",
   "pygments_lexer": "ipython3",
   "version": "3.9.12"
  }
 },
 "nbformat": 4,
 "nbformat_minor": 5
}
